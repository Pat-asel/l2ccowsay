{
 "cells": [
  {
   "cell_type": "code",
   "execution_count": 1,
   "id": "4e83ca17-d484-4261-8f63-0e0d74ce1159",
   "metadata": {},
   "outputs": [],
   "source": [
    "from l2ccowsay.meuh import mooing"
   ]
  },
  {
   "cell_type": "code",
   "execution_count": 3,
   "id": "a79a5e27-4a70-4128-a329-c60fd563609c",
   "metadata": {},
   "outputs": [
    {
     "name": "stdout",
     "output_type": "stream",
     "text": [
      "=============================\n",
      "| S2QT coding club is great |\n",
      "=============================\n",
      "\t\\\n",
      "\t \\\n",
      "\t   ^__^\n",
      "\t   (oo)\\_______\n",
      "\t   (__)\\       )\\/\\\n",
      "\t       ||----w |\n",
      "\t       ||     ||\n",
      "\n"
     ]
    }
   ],
   "source": [
    "print(mooing())"
   ]
  }
 ],
 "metadata": {
  "kernelspec": {
   "display_name": "Python 3 (ipykernel)",
   "language": "python",
   "name": "python3"
  },
  "language_info": {
   "codemirror_mode": {
    "name": "ipython",
    "version": 3
   },
   "file_extension": ".py",
   "mimetype": "text/x-python",
   "name": "python",
   "nbconvert_exporter": "python",
   "pygments_lexer": "ipython3",
   "version": "3.8.15"
  }
 },
 "nbformat": 4,
 "nbformat_minor": 5
}
